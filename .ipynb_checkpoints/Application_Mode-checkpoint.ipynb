{
 "cells": [
  {
   "cell_type": "code",
   "execution_count": 15,
   "id": "ef05a2bf",
   "metadata": {},
   "outputs": [],
   "source": [
    "from PIL import Image\n",
    "import numpy as np\n",
    "import torch\n",
    "import torchvision.transforms as transforms\n",
    "\n",
    "import torch.nn as nn"
   ]
  },
  {
   "cell_type": "code",
   "execution_count": 16,
   "id": "33379d7f",
   "metadata": {},
   "outputs": [],
   "source": [
    "#Define MaskNet here\n",
    "class MaskNet(nn.Module):\n",
    "    def __init__(self):\n",
    "        super().__init__()\n",
    "        self.convlayers =  nn.Sequential(\n",
    "            \n",
    "        )\n",
    "        self.FC = nn.Sequential(\n",
    "           \n",
    "            \n",
    "        )\n",
    "    \n",
    "    def forward(self,X):\n",
    "\n",
    "       \n"
   ]
  },
  {
   "cell_type": "code",
   "execution_count": 17,
   "id": "9c852ccd",
   "metadata": {},
   "outputs": [],
   "source": [
    "classes = ('cloth_mask', 'mask_worn_incorrectly', 'n95_mask', 'no_mask', 'surgical_mask')\n",
    "loaded_model = torch.load('./MaskNet.pt')\n",
    "mean = [0.5295, 0.4899, 0.4659]\n",
    "std = [0.2976, 0.2912, 0.2968]"
   ]
  },
  {
   "cell_type": "code",
   "execution_count": 20,
   "id": "aa230449",
   "metadata": {},
   "outputs": [
    {
     "name": "stdout",
     "output_type": "stream",
     "text": [
      "(2002, 3000, 3)\n"
     ]
    }
   ],
   "source": [
    "transformer = transforms.Compose([transforms.Resize((128,128)), transforms.ToTensor(), transforms.Normalize(mean=mean,std=std)])\n",
    "image = Image.open('./test/1.jpg')\n",
    "print(np.array(image).shape)\n",
    "img_tensor = transformer(image).unsqueeze(0).cuda()\n"
   ]
  },
  {
   "cell_type": "code",
   "execution_count": 21,
   "id": "c6e1631f",
   "metadata": {},
   "outputs": [
    {
     "name": "stdout",
     "output_type": "stream",
     "text": [
      "tensor([[-0.0794, -1.9027,  2.9544, -0.6028,  1.6597]], device='cuda:0',\n",
      "       grad_fn=<AddmmBackward0>)\n",
      "Predicted:  n95_mask\n"
     ]
    }
   ],
   "source": [
    "result = loaded_model(img_tensor)\n",
    "_, predicted = torch.max(result, 1)\n",
    "print(result)\n",
    "print('Predicted: ', classes[predicted])"
   ]
  }
 ],
 "metadata": {
  "kernelspec": {
   "display_name": "Python 3 (ipykernel)",
   "language": "python",
   "name": "python3"
  },
  "language_info": {
   "codemirror_mode": {
    "name": "ipython",
    "version": 3
   },
   "file_extension": ".py",
   "mimetype": "text/x-python",
   "name": "python",
   "nbconvert_exporter": "python",
   "pygments_lexer": "ipython3",
   "version": "3.9.7"
  }
 },
 "nbformat": 4,
 "nbformat_minor": 5
}
